{
 "cells": [
  {
   "cell_type": "code",
   "execution_count": 1,
   "metadata": {},
   "outputs": [],
   "source": [
    "import os "
   ]
  },
  {
   "cell_type": "code",
   "execution_count": 2,
   "metadata": {},
   "outputs": [
    {
     "data": {
      "text/plain": [
       "'C:\\\\Users\\\\Saikrizna'"
      ]
     },
     "execution_count": 2,
     "metadata": {},
     "output_type": "execute_result"
    }
   ],
   "source": [
    "os.getcwd()"
   ]
  },
  {
   "cell_type": "code",
   "execution_count": 3,
   "metadata": {},
   "outputs": [],
   "source": [
    "os.chdir(\"F:\\Analytics Vidhya Al & ML\\Customer_Churn\")"
   ]
  },
  {
   "cell_type": "code",
   "execution_count": 4,
   "metadata": {},
   "outputs": [],
   "source": [
    "import pandas as pd \n",
    "import numpy as np\n",
    "import seaborn as sns\n",
    "import matplotlib.pyplot as plt\n",
    "from sklearn.preprocessing import LabelEncoder\n",
    "from sklearn.preprocessing import StandardScaler\n",
    "from sklearn.linear_model import LogisticRegression\n",
    "from sklearn.model_selection import KFold, StratifiedKFold,train_test_split\n",
    "from sklearn.metrics import accuracy_score,roc_auc_score,confusion_matrix,roc_curve,precision_score,recall_score\n",
    "import warnings\n",
    "warnings.simplefilter(action='ignore',category=FutureWarning)\n",
    "warnings.simplefilter(action='ignore',category=UserWarning)"
   ]
  },
  {
   "cell_type": "code",
   "execution_count": 5,
   "metadata": {},
   "outputs": [],
   "source": [
    "df =pd.read_csv('churn_prediction.csv')"
   ]
  },
  {
   "cell_type": "code",
   "execution_count": 6,
   "metadata": {},
   "outputs": [
    {
     "data": {
      "text/plain": [
       "customer_id                          0\n",
       "vintage                              0\n",
       "age                                  0\n",
       "gender                             525\n",
       "dependents                        2463\n",
       "occupation                          80\n",
       "city                               803\n",
       "customer_nw_category                 0\n",
       "branch_code                          0\n",
       "days_since_last_transaction       3223\n",
       "current_balance                      0\n",
       "previous_month_end_balance           0\n",
       "average_monthly_balance_prevQ        0\n",
       "average_monthly_balance_prevQ2       0\n",
       "current_month_credit                 0\n",
       "previous_month_credit                0\n",
       "current_month_debit                  0\n",
       "previous_month_debit                 0\n",
       "current_month_balance                0\n",
       "previous_month_balance               0\n",
       "churn                                0\n",
       "dtype: int64"
      ]
     },
     "execution_count": 6,
     "metadata": {},
     "output_type": "execute_result"
    }
   ],
   "source": [
    "pd.isnull(df).sum()"
   ]
  },
  {
   "cell_type": "code",
   "execution_count": 7,
   "metadata": {
    "scrolled": true
   },
   "outputs": [
    {
     "data": {
      "text/plain": [
       "Male      16548\n",
       "Female    11309\n",
       "Name: gender, dtype: int64"
      ]
     },
     "execution_count": 7,
     "metadata": {},
     "output_type": "execute_result"
    }
   ],
   "source": [
    "df['gender'].value_counts()"
   ]
  },
  {
   "cell_type": "code",
   "execution_count": 8,
   "metadata": {},
   "outputs": [],
   "source": [
    "dict_gender={'Male':1,'Female':0}\n",
    "df.replace({'gender':dict_gender},inplace=True)\n",
    "df['gender']=df['gender'].fillna(-1)"
   ]
  },
  {
   "cell_type": "code",
   "execution_count": 9,
   "metadata": {},
   "outputs": [
    {
     "data": {
      "text/plain": [
       "0.0     21435\n",
       "2.0      2150\n",
       "1.0      1395\n",
       "3.0       701\n",
       "4.0       179\n",
       "5.0        41\n",
       "6.0         8\n",
       "7.0         3\n",
       "36.0        1\n",
       "52.0        1\n",
       "25.0        1\n",
       "9.0         1\n",
       "50.0        1\n",
       "32.0        1\n",
       "8.0         1\n",
       "Name: dependents, dtype: int64"
      ]
     },
     "execution_count": 9,
     "metadata": {},
     "output_type": "execute_result"
    }
   ],
   "source": [
    "df['dependents'].value_counts()"
   ]
  },
  {
   "cell_type": "code",
   "execution_count": 10,
   "metadata": {},
   "outputs": [
    {
     "data": {
      "text/plain": [
       "self_employed    17476\n",
       "salaried          6704\n",
       "student           2058\n",
       "retired           2024\n",
       "company             40\n",
       "Name: occupation, dtype: int64"
      ]
     },
     "execution_count": 10,
     "metadata": {},
     "output_type": "execute_result"
    }
   ],
   "source": [
    "df['occupation'].value_counts()"
   ]
  },
  {
   "cell_type": "code",
   "execution_count": 11,
   "metadata": {},
   "outputs": [],
   "source": [
    "df['dependents']=df['dependents'].fillna(0)\n",
    "df['occupation']=df['occupation'].fillna('self_employed')"
   ]
  },
  {
   "cell_type": "code",
   "execution_count": 12,
   "metadata": {},
   "outputs": [],
   "source": [
    "df['city']=df['city'].fillna(1020)"
   ]
  },
  {
   "cell_type": "code",
   "execution_count": 13,
   "metadata": {},
   "outputs": [],
   "source": [
    "df['days_since_last_transaction']=df['days_since_last_transaction'].fillna(999)"
   ]
  },
  {
   "cell_type": "code",
   "execution_count": 14,
   "metadata": {},
   "outputs": [],
   "source": [
    "#coverting occupation to one hot encoded feature \n",
    "df=pd.concat([df,pd.get_dummies(df['occupation'],prefix=str('occupation'),prefix_sep='_')],axis=1)"
   ]
  },
  {
   "cell_type": "markdown",
   "metadata": {},
   "source": [
    "# Scaling Numerical Feature "
   ]
  },
  {
   "cell_type": "code",
   "execution_count": 15,
   "metadata": {},
   "outputs": [],
   "source": [
    "num_cols=['customer_nw_category','current_balance','previous_month_end_balance',\n",
    "          'average_monthly_balance_prevQ','average_monthly_balance_prevQ2','current_month_credit',\n",
    "'previous_month_credit', 'current_month_debit', 'previous_month_debit','current_month_balance','previous_month_balance']\n",
    "\n",
    "for i in num_cols:\n",
    "    df[i]=np.log(df[i]+17000)\n",
    "std=StandardScaler()\n",
    "scaled=std.fit_transform(df[num_cols])\n",
    "scaled=pd.DataFrame(scaled,columns=num_cols)"
   ]
  },
  {
   "cell_type": "code",
   "execution_count": 16,
   "metadata": {},
   "outputs": [],
   "source": [
    "df_df_org=df.copy()\n",
    "df=df.drop(columns=num_cols,axis=1)\n",
    "df=df.merge(scaled,left_index=True,right_index=True,how='left')"
   ]
  },
  {
   "cell_type": "code",
   "execution_count": 17,
   "metadata": {},
   "outputs": [],
   "source": [
    "y_all=df.churn\n",
    "df=df.drop(['churn','customer_id','occupation'],axis=1)"
   ]
  },
  {
   "cell_type": "markdown",
   "metadata": {},
   "source": [
    "# Model Building And Evaluation Metrics"
   ]
  },
  {
   "cell_type": "code",
   "execution_count": 18,
   "metadata": {},
   "outputs": [],
   "source": [
    "baseline_cols =['current_month_debit', 'previous_month_debit','current_month_balance','previous_month_balance',\n",
    "               'vintage','occupation_retired','occupation_self_employed','occupation_salaried','occupation_student']\n",
    "df_baseline_cols= df[baseline_cols]"
   ]
  },
  {
   "cell_type": "code",
   "execution_count": 19,
   "metadata": {},
   "outputs": [],
   "source": [
    "xtrain,xtest,ytrain,ytest=train_test_split(df_baseline_cols,y_all,test_size=1/3,random_state=11,stratify=y_all)"
   ]
  },
  {
   "cell_type": "code",
   "execution_count": 20,
   "metadata": {},
   "outputs": [],
   "source": [
    "model=LogisticRegression()\n",
    "model.fit(xtrain,ytrain)\n",
    "pred=model.predict_proba(xtest)[:,1]"
   ]
  },
  {
   "cell_type": "code",
   "execution_count": 21,
   "metadata": {},
   "outputs": [
    {
     "data": {
      "image/png": "[encoded data removed]",
      "text/plain": [
       "<Figure size 864x576 with 1 Axes>"
      ]
     },
     "metadata": {
      "needs_background": "light"
     },
     "output_type": "display_data"
    }
   ],
   "source": [
    "from sklearn.metrics import roc_curve\n",
    "fpr,tpr,_ =roc_curve(ytest,pred)\n",
    "auc=roc_auc_score(ytest,pred)\n",
    "plt.figure(figsize=(12,8))\n",
    "plt.plot(fpr,tpr,label=\"validation AUC-ROC=\"+str(auc))\n",
    "x=np.linspace(0,1,1000)\n",
    "plt.plot(x,x,linestyle='-')\n",
    "plt.xlabel('false positive rate')\n",
    "plt.ylabel('True positive rate')\n",
    "plt.legend(loc=4)\n",
    "plt.show()"
   ]
  },
  {
   "cell_type": "code",
   "execution_count": 22,
   "metadata": {},
   "outputs": [],
   "source": [
    "pred_val=model.predict(xtest)"
   ]
  },
  {
   "cell_type": "code",
   "execution_count": 23,
   "metadata": {
    "scrolled": true
   },
   "outputs": [
    {
     "data": {
      "image/png": "[encoded data removed]",
      "text/plain": [
       "<Figure size 504x432 with 2 Axes>"
      ]
     },
     "metadata": {
      "needs_background": "light"
     },
     "output_type": "display_data"
    }
   ],
   "source": [
    "label_preds=pred_val\n",
    "\n",
    "cm=confusion_matrix(ytest,label_preds)\n",
    "\n",
    "def plot_confusion_matrix(cm,normalized=True,cmap='black'):\n",
    "    plt.figure(figsize=[7,6])\n",
    "    norm_cm=cm\n",
    "    if normalized:\n",
    "        norm_cm=cm.astype('float')/cm.sum(axis=1)[:np.newaxis]\n",
    "        sns.heatmap(norm_cm,annot=cm,fmt='g',xticklabels=['predicted:No','predicted:Yes'],yticklabels=['actual:No','actual:Yes'])\n",
    "plot_confusion_matrix(cm,['No','Yes'])"
   ]
  },
  {
   "cell_type": "code",
   "execution_count": 24,
   "metadata": {},
   "outputs": [
    {
     "data": {
      "text/plain": [
       "0.10496292070735881"
      ]
     },
     "execution_count": 24,
     "metadata": {},
     "output_type": "execute_result"
    }
   ],
   "source": [
    "recall_score(ytest,pred_val)"
   ]
  },
  {
   "cell_type": "markdown",
   "metadata": {},
   "source": [
    "# Cross Validation"
   ]
  },
  {
   "cell_type": "code",
   "execution_count": 49,
   "metadata": {},
   "outputs": [],
   "source": [
    "def cv_score(ml_model,rstate=12,thresold=0.5,cols=df.columns):\n",
    "    i=1\n",
    "    cv_scores=[]\n",
    "    df1=df.copy()\n",
    "    df1=df[cols]\n",
    "# 5 fold cross validation stratified on the basis of target  \n",
    "    kf=StratifiedKFold(n_splits=5,random_state=rstate,shuffle=True)\n",
    "    for df_index,test_index in kf.split(df1,y_all):\n",
    "        print('\\n{} od KFold {}'.format(i,kf.n_splits))\n",
    "        xtr,xv1=df1.loc[df_index],df1.loc[test_index]\n",
    "        ytr,yv1=y_all.loc[df_index],y_all.loc[test_index]\n",
    "        \n",
    "# define model for fitting on the training set for each fold \n",
    "\n",
    "        model=ml_model\n",
    "        model.fit(xtr,ytr)\n",
    "        pred_probs=model.predict_proba(xv1)\n",
    "        pp=[]\n",
    "#use thresold to define the classes based on probability values \n",
    "        for j in pred_probs[:,1]:\n",
    "            if j>thresold:\n",
    "                pp.append(1)\n",
    "            else:\n",
    "                pp.append(0)\n",
    "        \n",
    "#calculate scores for each fold and print \n",
    "        pred_val = pp\n",
    "        roc_score=roc_auc_score(yv1,pred_probs[:,1])\n",
    "        recall=recall_score(yv1,pred_val)\n",
    "        precision=precision_score(yv1,pred_val)\n",
    "        sufix=\"\"\n",
    "        msg=\"\"\n",
    "        msg+=\"ROC AUC score :{},recall score{:.4f},precision score:{:.4f}\".format(roc_score,recall,precision)\n",
    "        print(\"{}\".format(msg))\n",
    "        \n",
    "        cv_scores.append(roc_score)\n",
    "        i+=1\n",
    "        return cv_scores\n",
    "\n"
   ]
  },
  {
   "cell_type": "code",
   "execution_count": 50,
   "metadata": {
    "scrolled": true
   },
   "outputs": [
    {
     "name": "stdout",
     "output_type": "stream",
     "text": [
      "\n",
      "1 od KFold 5\n",
      "ROC AUC score :0.7425841126297401,recall score0.1169,precision score:0.6340\n"
     ]
    }
   ],
   "source": [
    "baseline_scores = cv_score(LogisticRegression(),cols=baseline_cols)"
   ]
  }
 ],
 "metadata": {
  "kernelspec": {
   "display_name": "Python 3",
   "language": "python",
   "name": "python3"
  },
  "language_info": {
   "codemirror_mode": {
    "name": "ipython",
    "version": 3
   },
   "file_extension": ".py",
   "mimetype": "text/x-python",
   "name": "python",
   "nbconvert_exporter": "python",
   "pygments_lexer": "ipython3",
   "version": "3.7.3"
  }
 },
 "nbformat": 4,
 "nbformat_minor": 2
}
